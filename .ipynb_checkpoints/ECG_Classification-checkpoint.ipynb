{
 "cells": [
  {
   "cell_type": "markdown",
   "id": "114f2962",
   "metadata": {},
   "source": [
    "By Akinde Kadjo"
   ]
  },
  {
   "cell_type": "markdown",
   "id": "56281586",
   "metadata": {},
   "source": [
    "**Goal:** The goal of this project is to distinguish normal electrocardiogram (ECG) heartbeat signals from abnormal ones. The Dataset was obtained from [Kaggle](https://www.kaggle.com/datasets/shayanfazeli/heartbeat/data). Its original source is [The PTB Diagnostic ECG Database](https://www.physionet.org/content/ptbdb/1.0.0/)."
   ]
  },
  {
   "cell_type": "code",
   "execution_count": null,
   "id": "b7bf0c64",
   "metadata": {},
   "outputs": [],
   "source": []
  }
 ],
 "metadata": {
  "kernelspec": {
   "display_name": "Python (dojo-env)",
   "language": "python",
   "name": "dojo-env"
  },
  "language_info": {
   "codemirror_mode": {
    "name": "ipython",
    "version": 3
   },
   "file_extension": ".py",
   "mimetype": "text/x-python",
   "name": "python",
   "nbconvert_exporter": "python",
   "pygments_lexer": "ipython3",
   "version": "3.8.13"
  },
  "toc": {
   "base_numbering": 1,
   "nav_menu": {},
   "number_sections": false,
   "sideBar": true,
   "skip_h1_title": false,
   "title_cell": "Table of Contents",
   "title_sidebar": "Contents",
   "toc_cell": false,
   "toc_position": {},
   "toc_section_display": true,
   "toc_window_display": false
  }
 },
 "nbformat": 4,
 "nbformat_minor": 5
}
